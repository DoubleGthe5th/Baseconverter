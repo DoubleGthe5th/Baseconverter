{
 "cells": [
  {
   "cell_type": "markdown",
   "metadata": {},
   "source": [
    "Collects first number and base then converts to base 10"
   ]
  },
  {
   "cell_type": "code",
   "execution_count": 70,
   "metadata": {},
   "outputs": [],
   "source": [
    "char = [\"0\",\"1\",\"2\",\"3\",\"4\",\"5\",\"6\",\"7\",\"8\",\"9\",\"A\",\"B\",\"C\",\"D\",\"E\",\"F\",\"G\",\"H\",\"I\",\"J\",\"K\",\"L\",\"M\",\"N\",\"O\",\"P\",\"Q\",\"R\",\"S\",\"T\",\"U\",\"V\",\"W\",\"X\",\"Y\",\"Z\"]\n",
    "for x in range(10,36):\n",
    "    char.append(char[x].lower())\n",
    "char.append(\"+\")\n",
    "char.append(\"/\")\n",
    "def collect():\n",
    "    base10result = 0\n",
    "    num = list(input(\"Enter your number here\"))\n",
    "    base = input(\"Enter the base of your orginal number here. Only integer bases are acceptable\")\n",
    "    try:\n",
    "        realbase = int(base)\n",
    "    except ValueError:\n",
    "        print(\"Please enter an integer base\")\n",
    "        return collect\n",
    "    for x in range(len(num)):\n",
    "        y = len(num) - 1 - x\n",
    "        try:\n",
    "            if char.index(num[y]) >= (realbase ** 2)**0.5:\n",
    "                print(\"Please only use characters that are vaild within your base's index\")\n",
    "                return collect()\n",
    "            else:\n",
    "                base10result += char.index(num[y]) * (realbase**x)\n",
    "        except ValueError:\n",
    "            if y == 0:\n",
    "                if num[0] == \"-\":\n",
    "                    base10result *= -1\n",
    "            else:\n",
    "                print(\"Please only use characters that are vaild within your base's index\")\n",
    "                return collect()\n",
    "    return base10result\n",
    "        \n"
   ]
  },
  {
   "cell_type": "markdown",
   "metadata": {},
   "source": [
    "Finds base to convert new number to"
   ]
  },
  {
   "cell_type": "code",
   "execution_count": 71,
   "metadata": {},
   "outputs": [
    {
     "name": "stdout",
     "output_type": "stream",
     "text": [
      "Please only use characters that are vaild within your base's index\n",
      "-9\n",
      "-19\n"
     ]
    }
   ],
   "source": [
    "base10value = collect()\n",
    "print(base10value)\n",
    "foundbase = False\n",
    "while(not foundbase):\n",
    "    base = input(\"Enter the base of your converted numberhere. Only integer bases are acceptable\")\n",
    "    try:\n",
    "        realbase = int(base)\n",
    "        print(realbase)\n",
    "        foundbase = True\n",
    "    except ValueError:\n",
    "        print(print(\"Please enter an integer base\"))\n"
   ]
  },
  {
   "cell_type": "markdown",
   "metadata": {},
   "source": [
    "Converts to new base"
   ]
  },
  {
   "cell_type": "code",
   "execution_count": 72,
   "metadata": {},
   "outputs": [
    {
     "name": "stdout",
     "output_type": "stream",
     "text": [
      "1A\n"
     ]
    }
   ],
   "source": [
    "digits = []\n",
    "x = 0\n",
    "isneg = False\n",
    "if base10value < 0 and realbase > 0:\n",
    "    isneg = True\n",
    "    base10value *= -1\n",
    "while(base10value != 0):\n",
    "    y = 0\n",
    "    while(base10value%(((realbase**(x+1))**2)**0.5) != 0):\n",
    "        base10value -= realbase**x\n",
    "        y += 1\n",
    "    digits.append(char[y])\n",
    "    x += 1\n",
    "if isneg:\n",
    "    digits.append(\"-\")\n",
    "digits.reverse()\n",
    "print(\"\".join(digits))  "
   ]
  }
 ],
 "metadata": {
  "kernelspec": {
   "display_name": "Python 3.10.1 64-bit",
   "language": "python",
   "name": "python3"
  },
  "language_info": {
   "codemirror_mode": {
    "name": "ipython",
    "version": 3
   },
   "file_extension": ".py",
   "mimetype": "text/x-python",
   "name": "python",
   "nbconvert_exporter": "python",
   "pygments_lexer": "ipython3",
   "version": "3.10.1"
  },
  "orig_nbformat": 4,
  "vscode": {
   "interpreter": {
    "hash": "aee8b7b246df8f9039afb4144a1f6fd8d2ca17a180786b69acc140d282b71a49"
   }
  }
 },
 "nbformat": 4,
 "nbformat_minor": 2
}
